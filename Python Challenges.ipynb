{
 "cells": [
  {
   "cell_type": "markdown",
   "id": "39a09882",
   "metadata": {},
   "source": [
    "Write a function to find all prime factors of a number."
   ]
  },
  {
   "cell_type": "code",
   "execution_count": 38,
   "id": "d9a1c535",
   "metadata": {},
   "outputs": [],
   "source": [
    "import numpy as np\n",
    "\n",
    "# first set a funct\n",
    "def prime(number):\n",
    "    return all([number % i != 0 for i in range(2, round(np.sqrt(number)) + 1)])   \n",
    "\n",
    "def factors(number):\n",
    "    return [i for i in range(2, number + 1) if prime(i) and number % i == 0] "
   ]
  },
  {
   "cell_type": "code",
   "execution_count": 39,
   "id": "a959427c",
   "metadata": {},
   "outputs": [
    {
     "data": {
      "text/plain": [
       "[2]"
      ]
     },
     "execution_count": 39,
     "metadata": {},
     "output_type": "execute_result"
    }
   ],
   "source": [
    "factors(32)"
   ]
  },
  {
   "cell_type": "code",
   "execution_count": 43,
   "id": "799d1b12",
   "metadata": {},
   "outputs": [
    {
     "data": {
      "text/plain": [
       "[2, 3, 5, 7]"
      ]
     },
     "execution_count": 43,
     "metadata": {},
     "output_type": "execute_result"
    }
   ],
   "source": [
    "factors(630)"
   ]
  },
  {
   "cell_type": "code",
   "execution_count": 41,
   "id": "39b57b19",
   "metadata": {},
   "outputs": [
    {
     "data": {
      "text/plain": [
       "[13]"
      ]
     },
     "execution_count": 41,
     "metadata": {},
     "output_type": "execute_result"
    }
   ],
   "source": [
    "factors(13)"
   ]
  },
  {
   "cell_type": "markdown",
   "id": "54e3b82e",
   "metadata": {},
   "source": [
    "Determine if a given string is palindrome, ignoring the possible spaces between the characters."
   ]
  },
  {
   "cell_type": "code",
   "execution_count": 63,
   "id": "822baa8c",
   "metadata": {},
   "outputs": [],
   "source": [
    "def palindrome(str):\n",
    "    return sum([str.count(item) % 2 != 0 for item in str if item != ' ']) <= 1"
   ]
  },
  {
   "cell_type": "code",
   "execution_count": 64,
   "id": "6ba0e5a4",
   "metadata": {},
   "outputs": [
    {
     "data": {
      "text/plain": [
       "True"
      ]
     },
     "execution_count": 64,
     "metadata": {},
     "output_type": "execute_result"
    }
   ],
   "source": [
    "palindrome('bbaa')"
   ]
  },
  {
   "cell_type": "code",
   "execution_count": 65,
   "id": "9a84ad8d",
   "metadata": {},
   "outputs": [
    {
     "data": {
      "text/plain": [
       "True"
      ]
     },
     "execution_count": 65,
     "metadata": {},
     "output_type": "execute_result"
    }
   ],
   "source": [
    "palindrome('cbbaa')"
   ]
  },
  {
   "cell_type": "code",
   "execution_count": 66,
   "id": "da078a1a",
   "metadata": {},
   "outputs": [
    {
     "data": {
      "text/plain": [
       "False"
      ]
     },
     "execution_count": 66,
     "metadata": {},
     "output_type": "execute_result"
    }
   ],
   "source": [
    "palindrome('abc')"
   ]
  },
  {
   "cell_type": "code",
   "execution_count": 67,
   "id": "340e6e22",
   "metadata": {},
   "outputs": [
    {
     "data": {
      "text/plain": [
       "True"
      ]
     },
     "execution_count": 67,
     "metadata": {},
     "output_type": "execute_result"
    }
   ],
   "source": [
    "palindrome('race car')"
   ]
  },
  {
   "cell_type": "markdown",
   "id": "6651abc2",
   "metadata": {},
   "source": [
    "Sort the words in a string."
   ]
  },
  {
   "cell_type": "code",
   "execution_count": 89,
   "id": "3c0006d0",
   "metadata": {},
   "outputs": [],
   "source": [
    "def sort_str(str):  \n",
    "    starter = [(n[0], item.split()[i]) for i, n in enumerate(item.split())]\n",
    "    starter.sort(key= lambda x: x[0])\n",
    "    return ' '.join([item[1] for item in starter])"
   ]
  },
  {
   "cell_type": "code",
   "execution_count": 90,
   "id": "8acba847",
   "metadata": {},
   "outputs": [
    {
     "data": {
      "text/plain": [
       "'are how you'"
      ]
     },
     "execution_count": 90,
     "metadata": {},
     "output_type": "execute_result"
    }
   ],
   "source": [
    "sort_str('how are you')"
   ]
  },
  {
   "cell_type": "markdown",
   "id": "a0f0f646",
   "metadata": {},
   "source": [
    "Index all items in a list."
   ]
  },
  {
   "cell_type": "code",
   "execution_count": 100,
   "id": "2529f147",
   "metadata": {},
   "outputs": [],
   "source": [
    "def indexes(list, search):\n",
    "    return [i for i, n in enumerate(list) if list[i] == search]"
   ]
  },
  {
   "cell_type": "code",
   "execution_count": 101,
   "id": "16b394c5",
   "metadata": {},
   "outputs": [
    {
     "data": {
      "text/plain": [
       "[0, 1, 3]"
      ]
     },
     "execution_count": 101,
     "metadata": {},
     "output_type": "execute_result"
    }
   ],
   "source": [
    "indexes([1,1,3,1,], 1)"
   ]
  },
  {
   "cell_type": "code",
   "execution_count": 85,
   "id": "0c5f7925",
   "metadata": {},
   "outputs": [
    {
     "data": {
      "text/plain": [
       "[('h', 0), ('a', 1), ('y', 2)]"
      ]
     },
     "execution_count": 85,
     "metadata": {},
     "output_type": "execute_result"
    }
   ],
   "source": [
    "starter"
   ]
  },
  {
   "cell_type": "code",
   "execution_count": 102,
   "id": "da66063d",
   "metadata": {},
   "outputs": [],
   "source": [
    "import pandas as pd\n",
    "df = pd.read_csv(r\"C:\\Users\\Lenovo\\Desktop\\datasets\\10k_racetimes.txt\", )"
   ]
  },
  {
   "cell_type": "code",
   "execution_count": 103,
   "id": "386cc584",
   "metadata": {},
   "outputs": [
    {
     "data": {
      "text/html": [
       "<div>\n",
       "<style scoped>\n",
       "    .dataframe tbody tr th:only-of-type {\n",
       "        vertical-align: middle;\n",
       "    }\n",
       "\n",
       "    .dataframe tbody tr th {\n",
       "        vertical-align: top;\n",
       "    }\n",
       "\n",
       "    .dataframe thead th {\n",
       "        text-align: right;\n",
       "    }\n",
       "</style>\n",
       "<table border=\"1\" class=\"dataframe\">\n",
       "  <thead>\n",
       "    <tr style=\"text-align: right;\">\n",
       "      <th></th>\n",
       "      <th>TIME       Athlete                                   Race date        Date of birth Location</th>\n",
       "    </tr>\n",
       "  </thead>\n",
       "  <tbody>\n",
       "    <tr>\n",
       "      <th>0</th>\n",
       "      <td>31:55.6    Edith Masai (KEN)               ...</td>\n",
       "    </tr>\n",
       "    <tr>\n",
       "      <th>1</th>\n",
       "      <td>32:23      Christelle Daunay (FRA)         ...</td>\n",
       "    </tr>\n",
       "    <tr>\n",
       "      <th>2</th>\n",
       "      <td>32:23      Christelle Daunay- 2            ...</td>\n",
       "    </tr>\n",
       "    <tr>\n",
       "      <th>3</th>\n",
       "      <td>32:25      Priscilla Welch (CO/ENG)        ...</td>\n",
       "    </tr>\n",
       "    <tr>\n",
       "      <th>4</th>\n",
       "      <td>32:28      Veerle Dejaeghere (BEL)         ...</td>\n",
       "    </tr>\n",
       "    <tr>\n",
       "      <th>...</th>\n",
       "      <td>...</td>\n",
       "    </tr>\n",
       "    <tr>\n",
       "      <th>95</th>\n",
       "      <td>33:38      Leah Pells-   2                 ...</td>\n",
       "    </tr>\n",
       "    <tr>\n",
       "      <th>96</th>\n",
       "      <td>33:38      Anzhelika Averkova (UKR)        ...</td>\n",
       "    </tr>\n",
       "    <tr>\n",
       "      <th>97</th>\n",
       "      <td>33:38      Carmen Oliveras (FRA)           ...</td>\n",
       "    </tr>\n",
       "    <tr>\n",
       "      <th>98</th>\n",
       "      <td>33:39      Michelle Cope-   2              ...</td>\n",
       "    </tr>\n",
       "    <tr>\n",
       "      <th>99</th>\n",
       "      <td>33:40      Tatyana Pozdniakova- 6          ...</td>\n",
       "    </tr>\n",
       "  </tbody>\n",
       "</table>\n",
       "<p>100 rows × 1 columns</p>\n",
       "</div>"
      ],
      "text/plain": [
       "      TIME       Athlete                                   Race date        Date of birth Location   \n",
       "0      31:55.6    Edith Masai (KEN)               ...                                                \n",
       "1      32:23      Christelle Daunay (FRA)         ...                                                \n",
       "2      32:23      Christelle Daunay- 2            ...                                                \n",
       "3      32:25      Priscilla Welch (CO/ENG)        ...                                                \n",
       "4      32:28      Veerle Dejaeghere (BEL)         ...                                                \n",
       "..                                                ...                                                \n",
       "95     33:38      Leah Pells-   2                 ...                                                \n",
       "96     33:38      Anzhelika Averkova (UKR)        ...                                                \n",
       "97     33:38      Carmen Oliveras (FRA)           ...                                                \n",
       "98     33:39      Michelle Cope-   2              ...                                                \n",
       "99     33:40      Tatyana Pozdniakova- 6          ...                                                \n",
       "\n",
       "[100 rows x 1 columns]"
      ]
     },
     "execution_count": 103,
     "metadata": {},
     "output_type": "execute_result"
    }
   ],
   "source": [
    "df"
   ]
  },
  {
   "cell_type": "code",
   "execution_count": 104,
   "id": "161a7cd9",
   "metadata": {},
   "outputs": [
    {
     "data": {
      "text/html": [
       "<div>\n",
       "<style scoped>\n",
       "    .dataframe tbody tr th:only-of-type {\n",
       "        vertical-align: middle;\n",
       "    }\n",
       "\n",
       "    .dataframe tbody tr th {\n",
       "        vertical-align: top;\n",
       "    }\n",
       "\n",
       "    .dataframe thead th {\n",
       "        text-align: right;\n",
       "    }\n",
       "</style>\n",
       "<table border=\"1\" class=\"dataframe\">\n",
       "  <thead>\n",
       "    <tr style=\"text-align: right;\">\n",
       "      <th></th>\n",
       "      <th>TIME       Athlete                                   Race date        Date of birth Location</th>\n",
       "    </tr>\n",
       "  </thead>\n",
       "  <tbody>\n",
       "    <tr>\n",
       "      <th>0</th>\n",
       "      <td>31:55.6    Edith Masai (KEN)               ...</td>\n",
       "    </tr>\n",
       "    <tr>\n",
       "      <th>1</th>\n",
       "      <td>32:23      Christelle Daunay (FRA)         ...</td>\n",
       "    </tr>\n",
       "    <tr>\n",
       "      <th>2</th>\n",
       "      <td>32:23      Christelle Daunay- 2            ...</td>\n",
       "    </tr>\n",
       "    <tr>\n",
       "      <th>3</th>\n",
       "      <td>32:25      Priscilla Welch (CO/ENG)        ...</td>\n",
       "    </tr>\n",
       "    <tr>\n",
       "      <th>4</th>\n",
       "      <td>32:28      Veerle Dejaeghere (BEL)         ...</td>\n",
       "    </tr>\n",
       "    <tr>\n",
       "      <th>...</th>\n",
       "      <td>...</td>\n",
       "    </tr>\n",
       "    <tr>\n",
       "      <th>95</th>\n",
       "      <td>33:38      Leah Pells-   2                 ...</td>\n",
       "    </tr>\n",
       "    <tr>\n",
       "      <th>96</th>\n",
       "      <td>33:38      Anzhelika Averkova (UKR)        ...</td>\n",
       "    </tr>\n",
       "    <tr>\n",
       "      <th>97</th>\n",
       "      <td>33:38      Carmen Oliveras (FRA)           ...</td>\n",
       "    </tr>\n",
       "    <tr>\n",
       "      <th>98</th>\n",
       "      <td>33:39      Michelle Cope-   2              ...</td>\n",
       "    </tr>\n",
       "    <tr>\n",
       "      <th>99</th>\n",
       "      <td>33:40      Tatyana Pozdniakova- 6          ...</td>\n",
       "    </tr>\n",
       "  </tbody>\n",
       "</table>\n",
       "<p>100 rows × 1 columns</p>\n",
       "</div>"
      ],
      "text/plain": [
       "      TIME       Athlete                                   Race date        Date of birth Location   \n",
       "0      31:55.6    Edith Masai (KEN)               ...                                                \n",
       "1      32:23      Christelle Daunay (FRA)         ...                                                \n",
       "2      32:23      Christelle Daunay- 2            ...                                                \n",
       "3      32:25      Priscilla Welch (CO/ENG)        ...                                                \n",
       "4      32:28      Veerle Dejaeghere (BEL)         ...                                                \n",
       "..                                                ...                                                \n",
       "95     33:38      Leah Pells-   2                 ...                                                \n",
       "96     33:38      Anzhelika Averkova (UKR)        ...                                                \n",
       "97     33:38      Carmen Oliveras (FRA)           ...                                                \n",
       "98     33:39      Michelle Cope-   2              ...                                                \n",
       "99     33:40      Tatyana Pozdniakova- 6          ...                                                \n",
       "\n",
       "[100 rows x 1 columns]"
      ]
     },
     "execution_count": 104,
     "metadata": {},
     "output_type": "execute_result"
    }
   ],
   "source": [
    "pd.read_table(r\"C:\\Users\\Lenovo\\Desktop\\datasets\\10k_racetimes.txt\")"
   ]
  },
  {
   "cell_type": "code",
   "execution_count": null,
   "id": "0320e4fd",
   "metadata": {},
   "outputs": [],
   "source": []
  }
 ],
 "metadata": {
  "kernelspec": {
   "display_name": "Python 3",
   "language": "python",
   "name": "python3"
  },
  "language_info": {
   "codemirror_mode": {
    "name": "ipython",
    "version": 3
   },
   "file_extension": ".py",
   "mimetype": "text/x-python",
   "name": "python",
   "nbconvert_exporter": "python",
   "pygments_lexer": "ipython3",
   "version": "3.8.8"
  }
 },
 "nbformat": 4,
 "nbformat_minor": 5
}
